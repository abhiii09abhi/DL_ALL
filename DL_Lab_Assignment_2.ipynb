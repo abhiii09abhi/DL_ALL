{
  "nbformat": 4,
  "nbformat_minor": 0,
  "metadata": {
    "colab": {
      "provenance": [],
      "gpuType": "T4"
    },
    "kernelspec": {
      "name": "python3",
      "display_name": "Python 3"
    },
    "language_info": {
      "name": "python"
    },
    "accelerator": "GPU"
  },
  "cells": [
    {
      "cell_type": "markdown",
      "source": [
        "# Google Colab Lab Assignment -Pretrained Modle\n",
        "\n",
        "**Course Name:** Deep Learning\n",
        "\n",
        "**Lab Title:** Research Paper Implementation with Pre-trained Model 'TRANSFER LEARNING: INCEPTION-V3 BASED CUSTOM CLASSIFICATION\n",
        "APPROACH FOR FOOD IMAGES'\n",
        "\n",
        "**Student Name:**Vivek Borade\n",
        "\n",
        "**PRN No:**202201040216\n",
        "\n",
        "**Date of Submission:** 26/2/2025\n",
        "\n",
        "**Group Members**: 1) Nirmal Chaturvedhi\n",
        "                   2) Abjeet Jadhav\n",
        "\n",
        "**Research Paper Study and Implementation**\n",
        "\n",
        "**Instructions:**\n",
        "\n",
        "1. Identify a research paper that utilizes a pre-trained model for a specific\n",
        "task.\n",
        "\n",
        "2. Study the methodology, dataset, and model used in the research paper.\n",
        "\n",
        "3. Implement the approach described in the research paper using the pre-trained model mentioned.\n",
        "\n",
        "4. Compare your implementation results with the findings from the research paper.\n"
      ],
      "metadata": {
        "id": "KRS_r90YMbta"
      }
    },
    {
      "cell_type": "markdown",
      "source": [
        "**Objective**\n",
        "1.   Study a research paper utilizing a pre-trained model.\n",
        "2.   Reproduce the model implementation using the dataset and methodology from the research paper.\n",
        "3.   Fine-tune the pre-trained model and optimize hyperparameters.\n",
        "3.   Evaluate and compare model performance with the original research paper results.\n",
        "\n",
        "\n",
        "\n",
        "\n",
        "\n",
        "\n",
        "\n"
      ],
      "metadata": {
        "id": "x1bukTjpNEze"
      }
    },
    {
      "cell_type": "markdown",
      "source": [
        "**Task 1: Research Paper Selection and Dataset Preparation (2 hours)**\n",
        "\n",
        "**Instructions:**\n",
        "\n",
        "1. Select a research paper that applies a pre-trained model (e.g., VGG, ResNet, EfficientNet, etc.).\n",
        "\n",
        "2. Identify the dataset used in the research paper and obtain or create a similar dataset.(**Mention Dataset Link and Description**)\n",
        "\n",
        "3. Perform necessary preprocessing steps:\n",
        "\n",
        " Resize images to match the model input dimensions.\n",
        "\n",
        " Apply data augmentation techniques if applicable.\n",
        "\n",
        "4. Split the dataset into training, validation, and testing sets."
      ],
      "metadata": {
        "id": "MD4ComqSNYGw"
      }
    },
    {
      "cell_type": "code",
      "source": [
        "!kaggle datasets download -d l33tc0d3r/indian-food-classification\n"
      ],
      "metadata": {
        "colab": {
          "base_uri": "https://localhost:8080/"
        },
        "id": "E-LO-nh0U3ad",
        "outputId": "e688f334-5c80-4c6c-e9aa-7b16108f4b22"
      },
      "execution_count": null,
      "outputs": [
        {
          "output_type": "stream",
          "name": "stdout",
          "text": [
            "Dataset URL: https://www.kaggle.com/datasets/l33tc0d3r/indian-food-classification\n",
            "License(s): MIT\n",
            "Downloading indian-food-classification.zip to /content\n",
            "100% 1.48G/1.48G [00:22<00:00, 98.0MB/s]\n",
            "100% 1.48G/1.48G [00:22<00:00, 71.5MB/s]\n"
          ]
        }
      ]
    },
    {
      "cell_type": "code",
      "source": [
        "import zipfile\n",
        "\n",
        "with zipfile.ZipFile(\"indian-food-classification.zip\", \"r\") as zip_ref:\n",
        "    zip_ref.extractall(\"food_dataset\")  # Extract to folder"
      ],
      "metadata": {
        "id": "GAQmJg1kVqPa"
      },
      "execution_count": null,
      "outputs": []
    },
    {
      "cell_type": "code",
      "source": [
        "import tensorflow as tf\n",
        "from tensorflow.keras.preprocessing.image import ImageDataGenerator\n",
        "\n",
        "IMG_SIZE = (150, 150)\n",
        "BATCH_SIZE = 32\n",
        "\n",
        "train_datagen = ImageDataGenerator(\n",
        "    rescale=1./255,\n",
        "    rotation_range=45,\n",
        "    width_shift_range=0.2,\n",
        "    height_shift_range=0.2,\n",
        "    horizontal_flip=True,\n",
        "    fill_mode='nearest',\n",
        "    validation_split=0.2\n",
        ")\n",
        "\n",
        "train_data = train_datagen.flow_from_directory(\n",
        "    'food_dataset',\n",
        "    target_size=IMG_SIZE,\n",
        "    batch_size=BATCH_SIZE,\n",
        "    class_mode='categorical',\n",
        "    subset='training'\n",
        ")\n",
        "\n",
        "val_data = train_datagen.flow_from_directory(\n",
        "    'food_dataset',\n",
        "    target_size=IMG_SIZE,\n",
        "    batch_size=BATCH_SIZE,\n",
        "    class_mode='categorical',\n",
        "    subset='validation'\n",
        ")\n"
      ],
      "metadata": {
        "id": "b85tIhfNNDlo",
        "colab": {
          "base_uri": "https://localhost:8080/"
        },
        "outputId": "f3a04bde-9713-4d8c-8ebe-7033ae55f4ec"
      },
      "execution_count": null,
      "outputs": [
        {
          "output_type": "stream",
          "name": "stdout",
          "text": [
            "Found 5016 images belonging to 1 classes.\n",
            "Found 1253 images belonging to 1 classes.\n"
          ]
        }
      ]
    },
    {
      "cell_type": "markdown",
      "source": [
        "**Task 2: Model Implementation and Fine-tuning**\n",
        "\n",
        "**Instructions:**\n",
        "\n",
        "1. Implement the pre-trained model as described in the research paper.\n",
        "\n",
        "2. Visualize feature maps of few layers\n",
        "\n",
        "3. Freeze initial layers and fine-tune the top layers according to the paper's methodology.\n",
        "\n",
        "4. Optimize hyperparameters such as:\n",
        "\n",
        "  Learning rate\n",
        "\n",
        "  Batch size\n",
        "\n",
        "  Number of epochs\n",
        "\n",
        "  Optimizer choice (Adam, SGD, RMSprop, etc.)\n",
        "\n",
        "4. Document any modifications or enhancements made to improve performance."
      ],
      "metadata": {
        "id": "8ezJvo9rNwsg"
      }
    },
    {
      "cell_type": "code",
      "source": [
        "import tensorflow as tf\n",
        "from tensorflow.keras.layers import Rescaling, RandomFlip, RandomRotation, RandomZoom\n",
        "import matplotlib.pyplot as plt\n",
        "import numpy as np\n",
        "\n",
        "# Apply Data Augmentation\n",
        "data_augmentation = tf.keras.Sequential([\n",
        "    RandomFlip(\"horizontal\"),\n",
        "    RandomRotation(0.2),\n",
        "    RandomZoom(0.2),\n",
        "    Rescaling(1./255)  # Normalize pixel values between 0 and 1\n",
        "])\n",
        "\n",
        "# Get a batch of images\n",
        "images, labels = next(iter(train_data))  # Use iter() to properly extract batch\n",
        "\n",
        "# Debug: Check image pixel values before augmentation\n",
        "print(\"Original Image Range:\", np.min(images), \"to\", np.max(images)) # Removed .numpy() as 'images' is already a NumPy array\n",
        "\n",
        "# Plot Augmented Images\n",
        "plt.figure(figsize=(10, 10))\n",
        "for i in range(9):\n",
        "    augmented_img = data_augmentation(images[i])  # Apply augmentation\n",
        "    img_array = augmented_img.numpy()\n",
        "\n",
        "    # Debug: Check pixel value range\n",
        "    print(f\"Augmented Image {i+1} Range:\", np.min(img_array), \"to\", np.max(img_array))\n",
        "\n",
        "    # Convert image back to displayable format\n",
        "    img_array = (img_array * 255).astype(\"uint8\")  # Convert [0,1] → [0,255]\n",
        "\n",
        "    plt.subplot(3, 3, i + 1)\n",
        "    plt.imshow(img_array)\n",
        "    plt.axis(\"off\")\n",
        "\n",
        "plt.show()"
      ],
      "metadata": {
        "id": "0U8RIdCPNo3J",
        "colab": {
          "base_uri": "https://localhost:8080/",
          "height": 838
        },
        "outputId": "24775058-0f29-4f97-c447-b012a6254a64"
      },
      "execution_count": null,
      "outputs": [
        {
          "output_type": "stream",
          "name": "stdout",
          "text": [
            "Original Image Range: 0.0 to 1.0\n",
            "Augmented Image 1 Range: 5.4010115e-06 to 0.0039170994\n",
            "Augmented Image 2 Range: 5.866912e-06 to 0.003921569\n",
            "Augmented Image 3 Range: 3.3196993e-05 to 0.0039165933\n",
            "Augmented Image 4 Range: 2.4944502e-06 to 0.003895182\n",
            "Augmented Image 5 Range: 0.0 to 0.0039215065\n",
            "Augmented Image 6 Range: 2.5121608e-07 to 0.003921569\n",
            "Augmented Image 7 Range: 0.00014337251 to 0.0038698798\n",
            "Augmented Image 8 Range: 6.927763e-05 to 0.0038861393\n",
            "Augmented Image 9 Range: 0.00010849554 to 0.0039015603\n"
          ]
        },
        {
          "output_type": "display_data",
          "data": {
            "text/plain": [
              "<Figure size 1000x1000 with 9 Axes>"
            ],
            "image/png": "[encoded data removed]"
          },
          "metadata": {}
        }
      ]
    },
    {
      "cell_type": "markdown",
      "source": [
        "**Task 3: Model Evaluation and Performance Comparison**\n",
        "\n",
        "**Instructions:**\n",
        "\n",
        "1. Evaluate the trained model using performance metrics:\n",
        "\n",
        " Accuracy, Precision,Recall, F1-score, Confusion Matrix (for classification tasks)\n",
        "\n",
        "2. Compare the results with those reported in the research paper.\n",
        "\n",
        "3. Identify potential weaknesses and suggest improvements.\n",
        "**Deliverables:**\n",
        "\n",
        "Performance metrics summary (table or chart).\n",
        "\n",
        "Graphs/plots showcasing model accuracy and loss trends.\n",
        "\n",
        "Comparison with research paper results.\n",
        "\n",
        "Discussion on model performance and areas for improvement."
      ],
      "metadata": {
        "id": "MNDL5cN0M-xP"
      }
    },
    {
      "cell_type": "code",
      "execution_count": null,
      "metadata": {
        "id": "GJDKxaIdL__E"
      },
      "outputs": [],
      "source": [
        "##Code for Task 3"
      ]
    },
    {
      "cell_type": "markdown",
      "source": [
        "**Conclusion and Result Visulaization**"
      ],
      "metadata": {
        "id": "ffTHUJy_OeTl"
      }
    },
    {
      "cell_type": "markdown",
      "source": [
        "**Declaration**\n",
        "\n",
        "I, [Your Name], confirm that the work submitted in this assignment is my own and has been completed following academic integrity guidelines. The code is uploaded on my GitHub repository account, and the repository link is provided below:\n",
        "\n",
        "GitHub Repository Link: [Insert GitHub Link]\n",
        "\n",
        "Signature: [Full Name]"
      ],
      "metadata": {
        "id": "24O7V4AmOsF8"
      }
    },
    {
      "cell_type": "markdown",
      "source": [
        "**Submission Checklist**\n",
        "\n",
        "✔ Research paper details and summary\n",
        "\n",
        "✔ Code file (Python Notebook or Script)\n",
        "\n",
        "✔ Dataset or link to the dataset\n",
        "\n",
        "✔ Visualizations (if applicable)\n",
        "\n",
        "✔ Screenshots of model performance metrics\n",
        "\n",
        "✔ Readme File\n",
        "\n",
        "✔ Comparison with research paper results"
      ],
      "metadata": {
        "id": "zioOSgLJOwHM"
      }
    },
    {
      "cell_type": "code",
      "source": [],
      "metadata": {
        "id": "rZObclKuO7c7"
      },
      "execution_count": null,
      "outputs": []
    },
    {
      "cell_type": "code",
      "source": [],
      "metadata": {
        "id": "caYesOyXO7Zq"
      },
      "execution_count": null,
      "outputs": []
    }
  ]
}